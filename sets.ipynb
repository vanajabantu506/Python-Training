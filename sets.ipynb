{
 "cells": [
  {
   "cell_type": "code",
   "execution_count": 21,
   "id": "b4e09994-ea40-4553-b432-719940a8ed88",
   "metadata": {},
   "outputs": [
    {
     "name": "stdin",
     "output_type": "stream",
     "text": [
      "enter a value: 1 2 3 4\n",
      "enter a value: 1 2 3\n"
     ]
    },
    {
     "name": "stdout",
     "output_type": "stream",
     "text": [
      "{'3', '2', '1', '4'}\n"
     ]
    }
   ],
   "source": [
    "a=set(input(\"enter a value:\").split())\n",
    "b=set(input(\"enter a value:\").split())\n",
    "print(a.union(a|b))  "
   ]
  },
  {
   "cell_type": "code",
   "execution_count": 25,
   "id": "ad4316a5-d5f6-4a8c-b01f-71b9c4fe4e53",
   "metadata": {},
   "outputs": [
    {
     "name": "stdin",
     "output_type": "stream",
     "text": [
      "enter a value: 1 2 3 4\n",
      "enter a value: 2 3 4\n"
     ]
    },
    {
     "name": "stdout",
     "output_type": "stream",
     "text": [
      "{'1'}\n"
     ]
    }
   ],
   "source": [
    "a=set(input(\"enter a value:\").split())\n",
    "b=set(input(\"enter a value:\").split())\n",
    "print(a.difference(b))"
   ]
  },
  {
   "cell_type": "code",
   "execution_count": 29,
   "id": "c70d7f1e-2a4d-4276-a1c8-912e354882b5",
   "metadata": {},
   "outputs": [
    {
     "name": "stdin",
     "output_type": "stream",
     "text": [
      "enter a value: 1 2 3 4\n",
      "enter a value: 2 3 5\n"
     ]
    },
    {
     "name": "stdout",
     "output_type": "stream",
     "text": [
      "{'2', '3'}\n"
     ]
    }
   ],
   "source": [
    "a=set(input(\"enter a value:\").split())\n",
    "b=set(input(\"enter a value:\").split())\n",
    "print(a.intersection(b))\n"
   ]
  },
  {
   "cell_type": "code",
   "execution_count": 31,
   "id": "0c7ac0cc-276f-4975-9e65-0fc55b9da51e",
   "metadata": {},
   "outputs": [
    {
     "name": "stdin",
     "output_type": "stream",
     "text": [
      "enter a value: 4 5 6 7\n"
     ]
    },
    {
     "name": "stdout",
     "output_type": "stream",
     "text": [
      "7\n",
      "4\n"
     ]
    }
   ],
   "source": [
    "a=set(input(\"enter a value:\").split())\n",
    "print(max(a))\n",
    "print(min(a))"
   ]
  },
  {
   "cell_type": "code",
   "execution_count": 34,
   "id": "46b164e6-7f00-46c6-9a5d-61067f64dac7",
   "metadata": {},
   "outputs": [
    {
     "name": "stdin",
     "output_type": "stream",
     "text": [
      "enter a value: 1 2 3\n",
      "enter a value: 2 4 1\n"
     ]
    },
    {
     "name": "stdout",
     "output_type": "stream",
     "text": [
      "{'4', '3'}\n"
     ]
    }
   ],
   "source": [
    "a=set(input(\"enter a value:\").split())\n",
    "b=set(input(\"enter a value:\").split())\n",
    "print(a.symmetric_difference(b))\n",
    "\n"
   ]
  },
  {
   "cell_type": "code",
   "execution_count": 36,
   "id": "45f0dd1b-5995-4b94-b0c9-4dbe191819be",
   "metadata": {},
   "outputs": [
    {
     "name": "stdin",
     "output_type": "stream",
     "text": [
      "enter a value: 1 2 3 4\n"
     ]
    },
    {
     "name": "stdout",
     "output_type": "stream",
     "text": [
      "{'2', '1', '4', '3'}\n"
     ]
    }
   ],
   "source": [
    "a=set(input(\"enter a value:\").split())\n",
    "a.copy()\n",
    "print(a)"
   ]
  },
  {
   "cell_type": "code",
   "execution_count": null,
   "id": "fd8b72fa-01dd-4655-9218-a517452127c9",
   "metadata": {},
   "outputs": [],
   "source": []
  }
 ],
 "metadata": {
  "kernelspec": {
   "display_name": "Python 3 (ipykernel)",
   "language": "python",
   "name": "python3"
  },
  "language_info": {
   "codemirror_mode": {
    "name": "ipython",
    "version": 3
   },
   "file_extension": ".py",
   "mimetype": "text/x-python",
   "name": "python",
   "nbconvert_exporter": "python",
   "pygments_lexer": "ipython3",
   "version": "3.12.4"
  }
 },
 "nbformat": 4,
 "nbformat_minor": 5
}
