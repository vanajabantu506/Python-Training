{
 "cells": [
  {
   "cell_type": "code",
   "execution_count": 2,
   "id": "859c6ea5-4ef7-4f44-9cf3-2b06157859cb",
   "metadata": {},
   "outputs": [
    {
     "name": "stdin",
     "output_type": "stream",
     "text": [
      "enter the number: 10#20#30\n"
     ]
    },
    {
     "name": "stdout",
     "output_type": "stream",
     "text": [
      "['10', '20', '30']\n"
     ]
    }
   ],
   "source": [
    "l=input(\"enter the number:\").split('#')\n",
    "print(l)"
   ]
  },
  {
   "cell_type": "code",
   "execution_count": 3,
   "id": "c66a919b-2560-4d53-8689-174793b495bb",
   "metadata": {},
   "outputs": [
    {
     "name": "stdin",
     "output_type": "stream",
     "text": [
      "enter the number: 10_20_30\n"
     ]
    },
    {
     "name": "stdout",
     "output_type": "stream",
     "text": [
      "[10, 20, 30]\n"
     ]
    }
   ],
   "source": [
    "l=list(map(int,input(\"enter the number:\").split('_')))\n",
    "print(l)"
   ]
  },
  {
   "cell_type": "code",
   "execution_count": 4,
   "id": "04f7cdf8-90fd-436b-8dc5-b372b7a0636f",
   "metadata": {},
   "outputs": [
    {
     "name": "stdin",
     "output_type": "stream",
     "text": [
      "enter the number: 10_20_30\n"
     ]
    },
    {
     "name": "stdout",
     "output_type": "stream",
     "text": [
      "[10.0, 20.0, 30.0]\n"
     ]
    }
   ],
   "source": [
    "l=list(map(float,input(\"enter the number:\").split('_')))\n",
    "print(l)"
   ]
  },
  {
   "cell_type": "code",
   "execution_count": 5,
   "id": "77079021-29ed-42bd-9676-3940ce9eb45b",
   "metadata": {},
   "outputs": [
    {
     "name": "stdin",
     "output_type": "stream",
     "text": [
      "enter the number: 10_20_30\n"
     ]
    },
    {
     "name": "stdout",
     "output_type": "stream",
     "text": [
      "[True, True, True]\n"
     ]
    }
   ],
   "source": [
    "l=list(map(bool,input(\"enter the number:\").split('_')))\n",
    "print(l)"
   ]
  },
  {
   "cell_type": "code",
   "execution_count": 6,
   "id": "c6555028-8dcd-482d-b70b-0f30b36f04e6",
   "metadata": {},
   "outputs": [
    {
     "name": "stdin",
     "output_type": "stream",
     "text": [
      "enter the number: 10_20_30\n"
     ]
    },
    {
     "name": "stdout",
     "output_type": "stream",
     "text": [
      "[(10+0j), (20+0j), (30+0j)]\n"
     ]
    }
   ],
   "source": [
    "l=list(map(complex,input(\"enter the number:\").split('_')))\n",
    "print(l)"
   ]
  },
  {
   "cell_type": "code",
   "execution_count": 11,
   "id": "c77ced24-34e2-4c67-a5d4-492350bb175d",
   "metadata": {},
   "outputs": [
    {
     "name": "stdout",
     "output_type": "stream",
     "text": [
      "[1, 2, 3]\n"
     ]
    }
   ],
   "source": [
    "l=list(map(int,'123'))\n",
    "print(l)\n"
   ]
  },
  {
   "cell_type": "code",
   "execution_count": 12,
   "id": "7a78e9ed-279e-41f0-b46b-942b2777bff8",
   "metadata": {},
   "outputs": [
    {
     "name": "stdin",
     "output_type": "stream",
     "text": [
      " 1 2 3\n"
     ]
    },
    {
     "name": "stdout",
     "output_type": "stream",
     "text": [
      "['1', '2', '3']\n"
     ]
    }
   ],
   "source": [
    "l=input().split()\n",
    "print(l)"
   ]
  },
  {
   "cell_type": "code",
   "execution_count": 17,
   "id": "c514ea45-3f77-4a7f-9cd2-c11d387a4da4",
   "metadata": {},
   "outputs": [
    {
     "name": "stdout",
     "output_type": "stream",
     "text": [
      "[43, 34, 25]\n"
     ]
    }
   ],
   "source": [
    "l=[12,34,25]\n",
    "l[0]=43\n",
    "print(l)"
   ]
  },
  {
   "cell_type": "code",
   "execution_count": 5,
   "id": "fac3346b-42d6-483b-9229-9ce5bed290f8",
   "metadata": {},
   "outputs": [
    {
     "name": "stdout",
     "output_type": "stream",
     "text": [
      "[2, 43, 45, 43.5]\n"
     ]
    }
   ],
   "source": [
    "l=[\"hi\",2,43,45,43.5]\n",
    "del l[0]\n",
    "print(l)"
   ]
  },
  {
   "cell_type": "code",
   "execution_count": 6,
   "id": "2c3804b1-61bc-469f-a95f-425cd2386fd7",
   "metadata": {},
   "outputs": [
    {
     "name": "stdout",
     "output_type": "stream",
     "text": [
      "[10, 39, 45, 'hello', 'vanaja', 'python', 'car']\n"
     ]
    }
   ],
   "source": [
    "l=[10,39,45,\"hello\",\"vanaja\",\"python\"]\n",
    "l.append(\"car\")\n",
    "print(l)"
   ]
  },
  {
   "cell_type": "code",
   "execution_count": 7,
   "id": "f83b41d6-cea6-47ee-8bf0-d9a01babcfcf",
   "metadata": {},
   "outputs": [
    {
     "name": "stdout",
     "output_type": "stream",
     "text": [
      "[10, 39, 45, 'hello', 'vanaja', 'python', 'c', 'a', 'r']\n"
     ]
    }
   ],
   "source": [
    "l=[10,39,45,\"hello\",\"vanaja\",\"python\"]\n",
    "l.extend(\"car\")\n",
    "print(l)"
   ]
  },
  {
   "cell_type": "code",
   "execution_count": 10,
   "id": "911d52de-8081-45ec-a2cf-ff49b7e1c629",
   "metadata": {},
   "outputs": [
    {
     "name": "stdout",
     "output_type": "stream",
     "text": [
      "[10, 39, 45, 'hello', 'vanaja', 'python', 1, 2, 3, [1, 2, 3]]\n"
     ]
    }
   ],
   "source": [
    "l=[10,39,45,\"hello\",\"vanaja\",\"python\"]\n",
    "l.extend([1,2,3])\n",
    "l.append([1,2,3])\n",
    "print(l)\n",
    "\n"
   ]
  },
  {
   "cell_type": "code",
   "execution_count": 17,
   "id": "4e180f6b-8abd-4820-9400-cdf6ca97a853",
   "metadata": {},
   "outputs": [
    {
     "name": "stdout",
     "output_type": "stream",
     "text": [
      "[10, 34, 56, 78, 'python', 'hi', 93, 'hello']\n"
     ]
    }
   ],
   "source": [
    "l=[10,34,56,78,93,\"hello\"]\n",
    "l.insert(4,\"python\")\n",
    "l.insert(5,\"hi\")\n",
    "print(l)\n",
    "\n"
   ]
  },
  {
   "cell_type": "code",
   "execution_count": 23,
   "id": "979229fa-82a4-44ad-916f-4ed9e29f10c3",
   "metadata": {},
   "outputs": [
    {
     "name": "stdout",
     "output_type": "stream",
     "text": [
      "[98, 67, 89, 65, 'santosh', 'chandini', 'pramod']\n"
     ]
    }
   ],
   "source": [
    "l=[98,67,89,65,\"santosh\",\"chandini\",\"pramod\",\"friend\"]\n",
    "l.remove(\"friend\")\n",
    "print(l)"
   ]
  },
  {
   "cell_type": "code",
   "execution_count": 25,
   "id": "72c21260-cf85-41bb-bbd5-dea949d36ee9",
   "metadata": {},
   "outputs": [
    {
     "name": "stdout",
     "output_type": "stream",
     "text": [
      "[10, 39, 45, 'vanaja']\n"
     ]
    }
   ],
   "source": [
    "l=[10,39,45,\"hello\",\"vanaja\",\"python\"]\n",
    "l.pop(3)\n",
    "l.pop()\n",
    "print(l)"
   ]
  },
  {
   "cell_type": "code",
   "execution_count": 28,
   "id": "7100d5d2-82d9-4a95-98e0-3c9315c91b02",
   "metadata": {},
   "outputs": [
    {
     "name": "stdout",
     "output_type": "stream",
     "text": [
      "[]\n"
     ]
    }
   ],
   "source": [
    "l=[98,67,89,65,\"santosh\",\"chandini\",\"pramod\",\"friend\"]\n",
    "l.clear()\n",
    "print(l)"
   ]
  },
  {
   "cell_type": "code",
   "execution_count": 31,
   "id": "601d1142-1abb-4e15-ad45-d0c47a1fddbf",
   "metadata": {},
   "outputs": [
    {
     "name": "stdout",
     "output_type": "stream",
     "text": [
      "0\n"
     ]
    }
   ],
   "source": [
    "l=[\"vanaja\",\"chandu\",\"pramod\",\"santosh\"]\n",
    "print(l.index(\"vanaja\"))"
   ]
  },
  {
   "cell_type": "code",
   "execution_count": 33,
   "id": "13216960-8666-45a2-a61f-94e9efee8954",
   "metadata": {},
   "outputs": [
    {
     "name": "stdout",
     "output_type": "stream",
     "text": [
      "1\n"
     ]
    }
   ],
   "source": [
    "l=[\"vanaja\",\"chandu\",\"pramod\",\"santosh\"]\n",
    "print(l.count(\"pramod\"))"
   ]
  },
  {
   "cell_type": "code",
   "execution_count": 36,
   "id": "6f3c97f0-464a-4da9-95b1-340f7ec44255",
   "metadata": {},
   "outputs": [
    {
     "name": "stdout",
     "output_type": "stream",
     "text": [
      "['vanaja', 'chandu', 'pramod', 'santosh']\n"
     ]
    }
   ],
   "source": [
    "l=[\"vanaja\",\"chandu\",\"pramod\",\"santosh\"]\n",
    "l1=l.copy()\n",
    "print(l1)"
   ]
  },
  {
   "cell_type": "code",
   "execution_count": 37,
   "id": "e9ff0fa0-e8be-4fba-8b46-c6ee84591b26",
   "metadata": {},
   "outputs": [
    {
     "name": "stdout",
     "output_type": "stream",
     "text": [
      "['chandu', 'pramod', 'santosh', 'vanaja']\n"
     ]
    }
   ],
   "source": [
    "l=[\"vanaja\",\"chandu\",\"pramod\",\"santosh\"]\n",
    "l.sort()\n",
    "print(l)"
   ]
  },
  {
   "cell_type": "code",
   "execution_count": 40,
   "id": "3144960f-120f-4cb6-ad5e-e2a4cefc6285",
   "metadata": {},
   "outputs": [
    {
     "name": "stdout",
     "output_type": "stream",
     "text": [
      "['santosh', 'pramod', 'chandu', 'vanaja']\n"
     ]
    }
   ],
   "source": [
    "\n",
    "l=[\"vanaja\",\"chandu\",\"pramod\",\"santosh\"]\n",
    "l.reverse()\n",
    "print(l)"
   ]
  },
  {
   "cell_type": "code",
   "execution_count": 42,
   "id": "df2d62e7-3206-4c26-bf00-b6c7efb26528",
   "metadata": {},
   "outputs": [
    {
     "name": "stdout",
     "output_type": "stream",
     "text": [
      "6\n"
     ]
    }
   ],
   "source": [
    "l=[0,1,2,3,]\n",
    "print(sum(l))\n",
    "\n"
   ]
  },
  {
   "cell_type": "code",
   "execution_count": 43,
   "id": "d3b10e6e-4edc-4dc3-81ba-b9318a924d42",
   "metadata": {},
   "outputs": [
    {
     "name": "stdout",
     "output_type": "stream",
     "text": [
      "3\n"
     ]
    }
   ],
   "source": [
    "l=[0,1,2,3,]\n",
    "print(max(l))\n"
   ]
  },
  {
   "cell_type": "code",
   "execution_count": 44,
   "id": "f752ee23-5ea9-4e4c-be39-224b5c8552a0",
   "metadata": {},
   "outputs": [
    {
     "name": "stdout",
     "output_type": "stream",
     "text": [
      "0\n"
     ]
    }
   ],
   "source": [
    "l=[0,1,2,3,]\n",
    "print(min(l))\n"
   ]
  },
  {
   "cell_type": "code",
   "execution_count": 45,
   "id": "7eed907a-5418-4c81-bca0-22889bb5c229",
   "metadata": {},
   "outputs": [
    {
     "name": "stdout",
     "output_type": "stream",
     "text": [
      "False\n"
     ]
    }
   ],
   "source": [
    "l=[0,1,2,3,]\n",
    "print(all(l))\n"
   ]
  },
  {
   "cell_type": "code",
   "execution_count": 46,
   "id": "7b0cd53a-e5e6-45e9-8978-4491e833f66b",
   "metadata": {},
   "outputs": [
    {
     "name": "stdout",
     "output_type": "stream",
     "text": [
      "True\n"
     ]
    }
   ],
   "source": [
    "l=[0,1,2,3,]\n",
    "print(any(l))\n"
   ]
  },
  {
   "cell_type": "code",
   "execution_count": 47,
   "id": "55ba98e9-52c0-4e5f-a4a1-b3fa7798bba4",
   "metadata": {},
   "outputs": [
    {
     "name": "stdout",
     "output_type": "stream",
     "text": [
      "4\n"
     ]
    }
   ],
   "source": [
    "l=[0,1,2,3,]\n",
    "print(len(l))\n"
   ]
  },
  {
   "cell_type": "code",
   "execution_count": 48,
   "id": "87d7f5f5-3f29-46f8-b8ca-e91187b3b9ca",
   "metadata": {},
   "outputs": [
    {
     "name": "stdout",
     "output_type": "stream",
     "text": [
      "['chai', 'vanaja', 'bhanu', 'pavan', 1, 2, 3, 4]\n"
     ]
    }
   ],
   "source": [
    "l1=[\"chai\",\"vanaja\",\"bhanu\",\"pavan\"]\n",
    "l2=[1,2,3,4]\n",
    "l=l1+l2\n",
    "print(l)"
   ]
  },
  {
   "cell_type": "code",
   "execution_count": 49,
   "id": "41b4d7e2-2c09-450c-b063-a2fcdf910659",
   "metadata": {},
   "outputs": [
    {
     "name": "stdout",
     "output_type": "stream",
     "text": [
      "['chai', 'vanaja', 'bhanu', 'pavan', 1, 2, 3, 4, 'chai', 'vanaja', 'bhanu', 'pavan', 1, 2, 3, 4, 'chai', 'vanaja', 'bhanu', 'pavan', 1, 2, 3, 4]\n"
     ]
    }
   ],
   "source": [
    "l1=[1,2,3,4]\n",
    "print(l*3)\n",
    "\n"
   ]
  },
  {
   "cell_type": "code",
   "execution_count": 50,
   "id": "0b43692d-df09-4f04-9ab1-cd9f65a07b02",
   "metadata": {},
   "outputs": [
    {
     "name": "stdout",
     "output_type": "stream",
     "text": [
      "[0, 1, 2, 3, 0, 1, 2, 3, 0, 1, 2, 3]\n"
     ]
    }
   ],
   "source": [
    "l=[0,1,2,3,]\n",
    "print(l*3)\n"
   ]
  },
  {
   "cell_type": "code",
   "execution_count": 51,
   "id": "06e2a351-106b-4999-9dda-0b3493e4bedf",
   "metadata": {},
   "outputs": [
    {
     "name": "stdout",
     "output_type": "stream",
     "text": [
      "False\n"
     ]
    }
   ],
   "source": [
    "\n",
    "l1=[6,7,8]\n",
    "l2=[9,0,1]\n",
    "l=l1+l2\n",
    "x=3 in  l\n",
    "print(x)\n"
   ]
  },
  {
   "cell_type": "code",
   "execution_count": 52,
   "id": "76765eee-75c0-4685-ad71-3631c3793707",
   "metadata": {},
   "outputs": [
    {
     "name": "stdout",
     "output_type": "stream",
     "text": [
      "True\n"
     ]
    }
   ],
   "source": [
    "l1=[6,7,8]\n",
    "l2=[9,0,1]\n",
    "l=l1+l2\n",
    "x=3 not in  l\n",
    "print(x)\n"
   ]
  },
  {
   "cell_type": "code",
   "execution_count": 54,
   "id": "f335e3df-1f8d-4840-929f-240a694f7515",
   "metadata": {},
   "outputs": [
    {
     "name": "stdout",
     "output_type": "stream",
     "text": [
      "[1, 3, 5, 7]\n",
      "[2, 5]\n"
     ]
    }
   ],
   "source": [
    "l1=[1,2,3,4,5,6,7]\n",
    "print(l1[::2])\n",
    "print(l1[1:-2:3])"
   ]
  },
  {
   "cell_type": "code",
   "execution_count": 56,
   "id": "9b1c6b64-726a-4373-899d-8a22d56ff1b0",
   "metadata": {},
   "outputs": [
    {
     "name": "stdout",
     "output_type": "stream",
     "text": [
      "[6, 7, 8]\n"
     ]
    }
   ],
   "source": [
    "l1=[1,[6,7,8],3]\n",
    "print(l1[1])\n",
    "\n"
   ]
  },
  {
   "cell_type": "code",
   "execution_count": 60,
   "id": "e3d6d6dc-7007-4d3c-a43a-8fc3a5ef9bb9",
   "metadata": {},
   "outputs": [
    {
     "name": "stdin",
     "output_type": "stream",
     "text": [
      "1st list: 12\n",
      "1st list: 34\n"
     ]
    },
    {
     "name": "stdout",
     "output_type": "stream",
     "text": [
      "[12, 34]\n"
     ]
    }
   ],
   "source": [
    "l1=list(map(int,input(\"1st list:\").split()))\n",
    "l2=list(map(int,input(\"1st list:\").split()))\n",
    "l3=l1+l2\n",
    "print(sorted(l3))\n"
   ]
  },
  {
   "cell_type": "code",
   "execution_count": 63,
   "id": "6391ce71-2265-4bfd-883a-44838df3df49",
   "metadata": {},
   "outputs": [
    {
     "name": "stdin",
     "output_type": "stream",
     "text": [
      " 23 45 67 78\n"
     ]
    },
    {
     "name": "stdout",
     "output_type": "stream",
     "text": [
      "['23', '45', '67', '78']\n"
     ]
    }
   ],
   "source": [
    "l=input().split()\n",
    "l.sort(key=len)\n",
    "print(l)"
   ]
  },
  {
   "cell_type": "code",
   "execution_count": 1,
   "id": "a5869aa1-a281-4897-acdf-2d65abe8ccee",
   "metadata": {},
   "outputs": [
    {
     "name": "stdin",
     "output_type": "stream",
     "text": [
      "enter the number: 1 2 1 1\n"
     ]
    },
    {
     "name": "stdout",
     "output_type": "stream",
     "text": [
      "3\n"
     ]
    }
   ],
   "source": [
    "t=list(map(int,input(\"enter the number:\").split()))\n",
    "for i in t:\n",
    "    d=t.count(i==i)\n",
    "print(d)    \n",
    "\n"
   ]
  },
  {
   "cell_type": "code",
   "execution_count": 3,
   "id": "72e28b0e-70b4-48de-bfff-bf9925ba1458",
   "metadata": {},
   "outputs": [
    {
     "name": "stdout",
     "output_type": "stream",
     "text": [
      "(5, 4, 3, 2, 1)\n"
     ]
    }
   ],
   "source": [
    "b=(1,2,3,4,5)\n",
    "print(b[::-1])"
   ]
  },
  {
   "cell_type": "code",
   "execution_count": null,
   "id": "a5c5fd8f-3171-4567-890f-54dcac68d1a5",
   "metadata": {},
   "outputs": [],
   "source": []
  }
 ],
 "metadata": {
  "kernelspec": {
   "display_name": "Python 3 (ipykernel)",
   "language": "python",
   "name": "python3"
  },
  "language_info": {
   "codemirror_mode": {
    "name": "ipython",
    "version": 3
   },
   "file_extension": ".py",
   "mimetype": "text/x-python",
   "name": "python",
   "nbconvert_exporter": "python",
   "pygments_lexer": "ipython3",
   "version": "3.12.4"
  }
 },
 "nbformat": 4,
 "nbformat_minor": 5
}
